{
 "cells": [
  {
   "cell_type": "markdown",
   "metadata": {},
   "source": [
    "# Imports\n"
   ]
  },
  {
   "cell_type": "code",
   "execution_count": 2,
   "metadata": {},
   "outputs": [],
   "source": [
    "from commom.database.queries.query_instagram_monitor import QUERY_INSTAGRAM_MONITOR\n",
    "from commom.instagram_data.instagram_data_manager import InstagramDataManager\n",
    "from commom.database.data_handler import DataHandler"
   ]
  },
  {
   "cell_type": "markdown",
   "metadata": {},
   "source": [
    "# Instancias"
   ]
  },
  {
   "cell_type": "code",
   "execution_count": 3,
   "metadata": {},
   "outputs": [],
   "source": [
    "data_handler = DataHandler()\n",
    "dataManager = InstagramDataManager()"
   ]
  },
  {
   "cell_type": "markdown",
   "metadata": {},
   "source": [
    "# Carregando Base"
   ]
  },
  {
   "cell_type": "code",
   "execution_count": 4,
   "metadata": {},
   "outputs": [],
   "source": [
    "# df = dataManager.load_current_account_history_dataset(source='bigquery', query=QUERY_INSTAGRAM_MONITOR)\n",
    "# df = data_handler.read_from_bigquery(query=QUERY_INSTAGRAM_MONITOR)"
   ]
  }
 ],
 "metadata": {
  "kernelspec": {
   "display_name": "innovation-api-kUUtbMIs-py3.10",
   "language": "python",
   "name": "python3"
  },
  "language_info": {
   "codemirror_mode": {
    "name": "ipython",
    "version": 3
   },
   "file_extension": ".py",
   "mimetype": "text/x-python",
   "name": "python",
   "nbconvert_exporter": "python",
   "pygments_lexer": "ipython3",
   "version": "3.10.14"
  }
 },
 "nbformat": 4,
 "nbformat_minor": 2
}
